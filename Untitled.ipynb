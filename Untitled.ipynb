{
 "cells": [
  {
   "cell_type": "code",
   "execution_count": 1,
   "metadata": {},
   "outputs": [
    {
     "name": "stdout",
     "output_type": "stream",
     "text": [
      "4.0\n",
      "16\n",
      "16\n",
      "4\n",
      "40.07875060343533\n"
     ]
    }
   ],
   "source": [
    "#Exercice 1\n",
    "\n",
    "def cal_tauxvariation(f, a, h):\n",
    "    taux = (f(a + h) - f(a)) / h\n",
    "    return taux\n",
    "\n",
    "\n",
    "def fa(x):\n",
    "    return 3 * pow(x, 3) + 1 * pow(x, 2) - 5\n",
    "\n",
    "\n",
    "#f=lambdify(x,3**x+x**2-5)\n",
    "\n",
    "print(cal_tauxvariation(fa, 0, 1))\n",
    "\n",
    "# Exercice 3\n",
    "# facon iterative\n",
    "\n",
    "def calcul_suite(n, u0):\n",
    "\n",
    "    uN = u0 + n + 1\n",
    "\n",
    "    for i in range(10):\n",
    "        uN = uN + n + 1\n",
    "        print(uN)\n",
    "\n",
    "# par recurrence\n",
    "\n",
    "def calcul_suite_recurrence(n, uN):\n",
    "    resp = uN + n + 1\n",
    "    print(resp)\n",
    "    return calcul_suite_recurrence(n, resp)\n",
    "\n",
    "# Exercice 4\n",
    "\n",
    "def TN(n):\n",
    "  return pow(n,2)-pow((n-1),2)\n",
    "\n",
    "def sN(n):\n",
    "    sn = 0\n",
    "    for i in range(1,n+1):\n",
    "        sn = sn + TN(i)\n",
    "    print(sn)\n",
    "    return sn\n",
    "\n",
    "print(sN(4))\n",
    "\n",
    "#Exercice 5 \n",
    "\n",
    "def Find_n(U0,e):\n",
    "    n=1\n",
    "    Un=0.5*U0\n",
    "    while(Un>e):\n",
    "        n=n+1\n",
    "        Un=Un*0.5\n",
    "    return n\n",
    "\n",
    "print(Find_n(1,0.1))\n",
    "\n",
    "# Exercice 6 \n",
    "\n",
    "def limite(epsilon):\n",
    "    U0 = 2\n",
    "    Un = U0+2/U0\n",
    "    while abs(Un-U0) > epsilon:\n",
    "        U0 = Un\n",
    "        Un = U0+2/U0\n",
    "    return Un\n",
    " \n",
    " \n",
    "print(limite(0.05))\n"
   ]
  },
  {
   "cell_type": "code",
   "execution_count": null,
   "metadata": {},
   "outputs": [],
   "source": []
  }
 ],
 "metadata": {
  "kernelspec": {
   "display_name": "Python 3",
   "language": "python",
   "name": "python3"
  },
  "language_info": {
   "codemirror_mode": {
    "name": "ipython",
    "version": 3
   },
   "file_extension": ".py",
   "mimetype": "text/x-python",
   "name": "python",
   "nbconvert_exporter": "python",
   "pygments_lexer": "ipython3",
   "version": "3.8.3"
  }
 },
 "nbformat": 4,
 "nbformat_minor": 4
}
